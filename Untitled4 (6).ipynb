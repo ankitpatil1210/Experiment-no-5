{
  "nbformat": 4,
  "nbformat_minor": 0,
  "metadata": {
    "colab": {
      "name": "Untitled4.ipynb",
      "provenance": []
    },
    "kernelspec": {
      "name": "python3",
      "display_name": "Python 3"
    },
    "language_info": {
      "name": "python"
    }
  },
  "cells": [
    {
      "cell_type": "markdown",
      "source": [
        "Write a program to create, append, and remove lists in python."
      ],
      "metadata": {
        "id": "S54K1u2uxsbn"
      }
    },
    {
      "cell_type": "code",
      "source": [
        "#Using the append() method to append\n",
        "thislist = [\"redmi\", \"samsung\", \"oneplus\"]\n",
        "\n",
        "thislist.append(\"iphone\")\n",
        "\n",
        "print(thislist)\n",
        "\n",
        "#The remove() method removes the specified item.\n",
        "thislist = [\"samsung\", \"oneplus\", \"dell\", \"vivo\"]\n",
        "thislist.remove(\"dell\")\n",
        "print(thislist)\n",
        "\n",
        "#Remove Specified Index\n",
        "thislist = [\"samsung\", \"oneplus\", \"dell\", \"vivo\"]\n",
        "thislist.pop(2)\n",
        "print(thislist)\n",
        "\n",
        "#the pop() method removes the last item\n",
        "thislist = [\"redmi\", \"samsung\", \"oneplus\"]\n",
        "thislist.pop()\n",
        "print(thislist)\n",
        "\n",
        "#del keyword also removes the specified index\n",
        "thislist = [\"redmi\", \"samsung\", \"oneplus\"]\n",
        "del thislist[0]\n",
        "print(thislist)\n",
        "\n",
        "\n",
        "#Clear the list content:\n",
        "thislist = [\"samsung\", \"oneplus\", \"dell\", \"vivo\"]\n",
        "thislist.clear()\n",
        "print(thislist)"
      ],
      "metadata": {
        "colab": {
          "base_uri": "https://localhost:8080/"
        },
        "id": "juDKCSILxsoI",
        "outputId": "6a5959cd-ef47-44b9-b0c6-b17fe5856199"
      },
      "execution_count": 24,
      "outputs": [
        {
          "output_type": "stream",
          "name": "stdout",
          "text": [
            "['redmi', 'samsung', 'oneplus', 'iphone']\n",
            "['samsung', 'oneplus', 'vivo']\n",
            "['samsung', 'oneplus', 'vivo']\n",
            "['redmi', 'samsung']\n",
            "['samsung', 'oneplus']\n",
            "[]\n"
          ]
        }
      ]
    }
  ]
}